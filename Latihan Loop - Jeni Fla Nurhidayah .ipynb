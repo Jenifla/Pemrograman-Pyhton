{
 "cells": [
  {
   "cell_type": "code",
   "execution_count": 1,
   "id": "02d6ef58",
   "metadata": {},
   "outputs": [
    {
     "name": "stdout",
     "output_type": "stream",
     "text": [
      "Masukan panjang deret = 10\n",
      "0 1\n",
      "0 1 1\n",
      "0 1 1 2\n",
      "0 1 1 2 3\n",
      "0 1 1 2 3 5\n",
      "0 1 1 2 3 5 8\n",
      "0 1 1 2 3 5 8 13\n",
      "0 1 1 2 3 5 8 13 21\n",
      "0 1 1 2 3 5 8 13 21 34\n"
     ]
    }
   ],
   "source": [
    "panjang = int(input('Masukan panjang deret = ')) #inputan panjang deret yang akan dieksekusi\n",
    "fibo = [0, 1] #dua angka pertama pada deret fibonacci\n",
    "print(*fibo) #menampilkan deret pertama\n",
    "for i in range(2, panjang): #perulangan for supaya program dapat melakukan perulangan sebanyak nilai variabel panjang\n",
    "        angkaSelanjutnya = fibo[i-1] + fibo[i-2] \n",
    "        fibo.append(angkaSelanjutnya)\n",
    "        print(*fibo)"
   ]
  },
  {
   "cell_type": "code",
   "execution_count": null,
   "id": "84d3c987",
   "metadata": {},
   "outputs": [],
   "source": []
  }
 ],
 "metadata": {
  "kernelspec": {
   "display_name": "Python 3 (ipykernel)",
   "language": "python",
   "name": "python3"
  },
  "language_info": {
   "codemirror_mode": {
    "name": "ipython",
    "version": 3
   },
   "file_extension": ".py",
   "mimetype": "text/x-python",
   "name": "python",
   "nbconvert_exporter": "python",
   "pygments_lexer": "ipython3",
   "version": "3.9.12"
  }
 },
 "nbformat": 4,
 "nbformat_minor": 5
}
