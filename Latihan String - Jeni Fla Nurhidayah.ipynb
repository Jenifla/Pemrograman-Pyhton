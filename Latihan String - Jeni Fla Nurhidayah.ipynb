{
 "cells": [
  {
   "cell_type": "code",
   "execution_count": 5,
   "id": "db4a2d8d",
   "metadata": {},
   "outputs": [
    {
     "name": "stdout",
     "output_type": "stream",
     "text": [
      "Jumlah Huruf :  17\n",
      "Jumlah huruf vokal :  7\n",
      "Jumlah huruf konsonan :  10\n"
     ]
    }
   ],
   "source": [
    "nama = \"Jeni Fla Nurhidayah\" #pendeklarasian nama\n",
    "vokal = 'aiueoAIUEO' #pendeklarasian huruf vokal\n",
    "spasi = nama.count(' ') #menghitung jumlah spasi yang ada pada nama\n",
    "huruf = len(nama) - spasi #menghitung jumlah huruf pada nama\n",
    "print (\"Jumlah Huruf : \", huruf) #menampilkan jumlah huruf\n",
    "jml_vo = 0\n",
    "jml_ko = 0\n",
    "for i in nama: \n",
    "    if i in vokal: #menghitung jumlah huruf vokal pada nama \n",
    "        jml_vo += 1\n",
    "    else : #menghitung  jumlah huruf konsonan\n",
    "        jml_ko += 1 \n",
    "        konsonan = jml_ko - spasi\n",
    "print(\"Jumlah huruf vokal : \", jml_vo) #menampilkan jumlah huruf vokal\n",
    "print(\"Jumlah huruf konsonan : \", konsonan) #menampilkan jumlah huruf konsonan"
   ]
  },
  {
   "cell_type": "code",
   "execution_count": null,
   "id": "14dae2d4",
   "metadata": {},
   "outputs": [],
   "source": []
  }
 ],
 "metadata": {
  "kernelspec": {
   "display_name": "Python 3 (ipykernel)",
   "language": "python",
   "name": "python3"
  },
  "language_info": {
   "codemirror_mode": {
    "name": "ipython",
    "version": 3
   },
   "file_extension": ".py",
   "mimetype": "text/x-python",
   "name": "python",
   "nbconvert_exporter": "python",
   "pygments_lexer": "ipython3",
   "version": "3.9.12"
  }
 },
 "nbformat": 4,
 "nbformat_minor": 5
}
